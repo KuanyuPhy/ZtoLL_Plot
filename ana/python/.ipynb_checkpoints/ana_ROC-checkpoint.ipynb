{
 "cells": [
  {
   "cell_type": "code",
   "execution_count": 3,
   "id": "productive-month",
   "metadata": {},
   "outputs": [],
   "source": [
    "import uproot\n",
    "import matplotlib.pyplot as plt\n",
    "import numpy as np"
   ]
  },
  {
   "cell_type": "code",
   "execution_count": 9,
   "id": "inappropriate-token",
   "metadata": {},
   "outputs": [],
   "source": [
    "data5 = np.loadtxt('./../../txt_file/ROC5.txt')\n",
    "data10 = np.loadtxt('./../../txt_file/ROC10.txt')\n",
    "data15 = np.loadtxt('./../../txt_file/ROC15.txt')"
   ]
  },
  {
   "cell_type": "code",
   "execution_count": 13,
   "id": "scenic-haiti",
   "metadata": {},
   "outputs": [
    {
     "data": {
      "text/plain": [
       "Text(0, 0.5, 'Bkg rejection')"
      ]
     },
     "execution_count": 13,
     "metadata": {},
     "output_type": "execute_result"
    },
    {
     "data": {
      "image/png": "[encoded data removed]",
      "text/plain": [
       "<Figure size 432x288 with 1 Axes>"
      ]
     },
     "metadata": {
      "needs_background": "light"
     },
     "output_type": "display_data"
    }
   ],
   "source": [
    "plt.plot(data5[:,0],data5[:,1])\n",
    "plt.xlabel('Sig Efficiency')\n",
    "plt.ylabel('Bkg rejection')"
   ]
  },
  {
   "cell_type": "code",
   "execution_count": 6,
   "id": "diverse-terrorist",
   "metadata": {},
   "outputs": [],
   "source": [
    "Mx2_1 = uproot.open(\"./../../../root_file/Ztoee/test1.root\")\n",
    "Mx2_50\n",
    "Mx2_150\n",
    "DYHT70\n",
    "DYHT100\n",
    "DYHT200\n",
    "DYHT400\n",
    "DYHT600\n",
    "DYHT800\n"
   ]
  },
  {
   "cell_type": "code",
   "execution_count": 3,
   "id": "supreme-willow",
   "metadata": {},
   "outputs": [
    {
     "data": {
      "text/plain": [
       "<ReadOnlyDirectory '/' at 0x7fb42c0fba30>"
      ]
     },
     "execution_count": 3,
     "metadata": {},
     "output_type": "execute_result"
    }
   ],
   "source": [
    "file"
   ]
  },
  {
   "cell_type": "code",
   "execution_count": 4,
   "id": "facial-negotiation",
   "metadata": {},
   "outputs": [
    {
     "data": {
      "text/plain": [
       "['T_event;1',\n",
       " 'PUdz;1',\n",
       " 'h_dzError;1',\n",
       " 'h_dxyError;1',\n",
       " 'hmet;1',\n",
       " 'dilepton_pT_met;1',\n",
       " 'h_aph;1',\n",
       " 'h_aphmax;1',\n",
       " 'h_aphmin;1',\n",
       " 'h_aph026;1',\n",
       " 'h_jet_n;1',\n",
       " 'h_jet_rank;1',\n",
       " 'h_ele_n;1',\n",
       " 'h_mu_n;1',\n",
       " 'h_tau_n;1',\n",
       " 'h_nTracks;1',\n",
       " 'h_track_phi;1',\n",
       " 'h_track_dr;1',\n",
       " 'h_track_draf;1',\n",
       " 'h_jet_eta;1',\n",
       " 'h_jet_pt;1',\n",
       " 'Teacketa;1',\n",
       " 'h_AK4mass;1',\n",
       " 'Z_massee;1',\n",
       " 'dilepton_pT;1',\n",
       " 'h_ee_event;1',\n",
       " 'Chi3Dlog;1',\n",
       " 'Chi3Dlogaf;1',\n",
       " 'Chi3D;1',\n",
       " 'Chi3DPaperlog;1',\n",
       " 'Chi2Dlog;1',\n",
       " 'h_eventWeight;1',\n",
       " 'h_event;1',\n",
       " 'h_ee_stu_event;1',\n",
       " 'h_ee_npass;1',\n",
       " 'h_SumWeight;1',\n",
       " 'gen_chi2numb;1',\n",
       " 'gen_dquarknumb;1',\n",
       " 'gen_eenumber;1',\n",
       " 'match_dquarknumb;1',\n",
       " 'ratioTrackPt;1',\n",
       " 'h_jet_dr_d2;1',\n",
       " 'h_jet_dr_d3;1',\n",
       " 'Thinjet_pT;1',\n",
       " 'h_MCweight;1',\n",
       " 'h_jet_hadronless_0_2Flavour;1',\n",
       " 'h_jet_hadronbig0_2Flavour;1',\n",
       " 'h_tau_thisdr;1',\n",
       " 'h_tau_thatdr;1',\n",
       " 'h_mt2;1',\n",
       " 'h_aphmin_Opt0;1',\n",
       " 'h_aphmin_Opt1;1',\n",
       " 'h_aphmin_Opt2;1',\n",
       " 'h_aphmin_Opt3;1',\n",
       " 'h_aphmin_Opt4;1',\n",
       " 'h_aphmin_Opt5;1',\n",
       " 'h_aphmin_Opt6;1',\n",
       " 'h_aphmin_Opt7;1',\n",
       " 'h_aphmin_Opt8;1',\n",
       " 'h_aphmin_Opt9;1',\n",
       " 'h_aphmin_Opt10;1',\n",
       " 'h_aphmin_Opt11;1',\n",
       " 'h_aphmin_Opt12;1',\n",
       " 'h_aphmin_Opt13;1',\n",
       " 'h_aphmin_Opt14;1',\n",
       " 'h_aphmin_Opt15;1',\n",
       " 'h_aphmin_Opt16;1',\n",
       " 'h_aphmin_Opt17;1',\n",
       " 'h_aphmin_Opt18;1',\n",
       " 'h_aphmin_Opt19;1',\n",
       " 'h_aphmin_Opt20;1',\n",
       " 'h_aphmin_Opt21;1',\n",
       " 'h_aphmin_Opt22;1',\n",
       " 'h_aphmin_Opt23;1',\n",
       " 'h_aphmin_Opt24;1']"
      ]
     },
     "execution_count": 4,
     "metadata": {},
     "output_type": "execute_result"
    }
   ],
   "source": [
    "file.keys()"
   ]
  },
  {
   "cell_type": "code",
   "execution_count": 5,
   "id": "expired-drinking",
   "metadata": {},
   "outputs": [
    {
     "data": {
      "text/plain": [
       "<TH1F (version 3) at 0x7fb42c114880>"
      ]
     },
     "execution_count": 5,
     "metadata": {},
     "output_type": "execute_result"
    }
   ],
   "source": [
    "file[\"h_aphmin_Opt0\"]"
   ]
  },
  {
   "cell_type": "code",
   "execution_count": null,
   "id": "generous-craps",
   "metadata": {},
   "outputs": [],
   "source": []
  }
 ],
 "metadata": {
  "kernelspec": {
   "display_name": "Python 3",
   "language": "python",
   "name": "python3"
  },
  "language_info": {
   "codemirror_mode": {
    "name": "ipython",
    "version": 3
   },
   "file_extension": ".py",
   "mimetype": "text/x-python",
   "name": "python",
   "nbconvert_exporter": "python",
   "pygments_lexer": "ipython3",
   "version": "3.8.10"
  }
 },
 "nbformat": 4,
 "nbformat_minor": 5
}
