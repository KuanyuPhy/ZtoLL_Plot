{
 "cells": [
  {
   "cell_type": "code",
   "execution_count": 1,
   "id": "running-there",
   "metadata": {},
   "outputs": [
    {
     "name": "stdout",
     "output_type": "stream",
     "text": [
      "Welcome to JupyROOT 6.26/00\n"
     ]
    }
   ],
   "source": [
    "import uproot as up\n",
    "from numpy import *\n",
    "import scipy as sp\n",
    "from scipy.optimize import curve_fit\n",
    "from scipy.stats import chi2\n",
    "from matplotlib.pyplot import *\n",
    "from ROOT import TCanvas, TGraph, TH1F,TFile, TF1, gStyle, TH1D"
   ]
  },
  {
   "cell_type": "code",
   "execution_count": 2,
   "id": "fitting-irrigation",
   "metadata": {},
   "outputs": [],
   "source": [
    "file = up.open(\"./../ee/cut_optimize/DY/ee_DY_emjet_half.root\")"
   ]
  },
  {
   "cell_type": "code",
   "execution_count": 3,
   "id": "empirical-lincoln",
   "metadata": {},
   "outputs": [
    {
     "data": {
      "text/plain": [
       "'HT_light_fakeRate'"
      ]
     },
     "execution_count": 3,
     "metadata": {},
     "output_type": "execute_result"
    }
   ],
   "source": [
    "file[\"HT_light_fakeRate\"].member(\"fName\")"
   ]
  },
  {
   "cell_type": "code",
   "execution_count": 4,
   "id": "small-pierre",
   "metadata": {},
   "outputs": [
    {
     "data": {
      "text/plain": [
       "array([ 0.,  1.,  2.,  3.,  4.,  5.,  6.,  7.,  8.,  9., 10., 11., 12.,\n",
       "       13., 14., 15., 16., 17., 18., 19., 20., 21., 22., 23., 24., 25.,\n",
       "       26., 27., 28., 29., 30., 31., 32., 33., 34., 35., 36., 37., 38.,\n",
       "       39., 40., 41., 42., 43., 44., 45., 46., 47., 48., 49., 50.])"
      ]
     },
     "execution_count": 4,
     "metadata": {},
     "output_type": "execute_result"
    }
   ],
   "source": [
    "file[\"HT_light_fakeRate\"].axis().edges()"
   ]
  },
  {
   "cell_type": "code",
   "execution_count": 5,
   "id": "electronic-thousand",
   "metadata": {},
   "outputs": [
    {
     "data": {
      "text/plain": [
       "array([0.00000000e+00, 5.80480278e-01, 3.18238348e-01, 1.77361548e-01,\n",
       "       1.01869635e-01, 6.10639863e-02, 3.55787016e-02, 2.24792976e-02,\n",
       "       1.40164383e-02, 8.50702543e-03, 5.86515013e-03, 3.36765335e-03,\n",
       "       1.80778711e-03, 1.68038381e-03, 1.28881773e-03, 9.57379758e-04,\n",
       "       1.71738293e-03, 7.18061405e-04, 6.38553291e-04, 4.32211265e-04,\n",
       "       4.43756056e-04, 4.68217826e-04, 1.38794407e-04, 1.82368822e-04,\n",
       "       9.96344723e-04, 2.63656984e-04, 1.38558520e-04, 1.38150202e-03,\n",
       "       1.24983359e-04, 1.62813711e-04, 1.26216750e-04, 4.20982280e-04,\n",
       "       2.13678359e-04, 4.90248320e-04, 3.36757919e-04, 3.05018883e-04,\n",
       "       5.46917785e-04, 7.13861897e-04, 0.00000000e+00, 0.00000000e+00,\n",
       "       0.00000000e+00, 0.00000000e+00, 0.00000000e+00, 3.30878492e-03,\n",
       "       0.00000000e+00, 0.00000000e+00, 5.78248361e-03, 0.00000000e+00,\n",
       "       0.00000000e+00, 0.00000000e+00], dtype=float32)"
      ]
     },
     "execution_count": 5,
     "metadata": {},
     "output_type": "execute_result"
    }
   ],
   "source": [
    "file[\"HT_light_fakeRate\"].values()"
   ]
  },
  {
   "cell_type": "code",
   "execution_count": 6,
   "id": "infectious-survival",
   "metadata": {},
   "outputs": [],
   "source": [
    "def func_light(x,*par):\n",
    "    return exp(par[0]+par[1]*x+par[2]*x*x) + par[3] * x +  par[4]"
   ]
  },
  {
   "cell_type": "code",
   "execution_count": 78,
   "id": "innovative-government",
   "metadata": {},
   "outputs": [],
   "source": [
    "def func_c(x,*par):\n",
    "    return exp(par[0]+par[1]*x) + par[2] * x*x +  par[3]*x+ par[4]"
   ]
  },
  {
   "cell_type": "code",
   "execution_count": null,
   "id": "solar-cookie",
   "metadata": {},
   "outputs": [],
   "source": []
  },
  {
   "cell_type": "code",
   "execution_count": 14,
   "id": "damaged-somerset",
   "metadata": {},
   "outputs": [
    {
     "data": {
      "text/plain": [
       "array([ 1.,  2.,  3.,  4.,  5.,  6.,  7.,  8.,  9., 10., 11., 12., 13.,\n",
       "       14., 15., 16., 17., 18., 19., 20., 21., 22., 23., 24., 25., 26.,\n",
       "       27., 28., 29., 30., 31., 32., 33., 34., 35., 36.])"
      ]
     },
     "execution_count": 14,
     "metadata": {},
     "output_type": "execute_result"
    }
   ],
   "source": [
    "xdata = file[\"HT_light_fakeRate\"].axis().edges()[1:-14]\n",
    "ydata = file[\"HT_light_fakeRate\"].values()[1:-13]\n",
    "xdata"
   ]
  },
  {
   "cell_type": "code",
   "execution_count": 9,
   "id": "promotional-bumper",
   "metadata": {},
   "outputs": [
    {
     "data": {
      "text/plain": [
       "array([5.80480278e-01, 3.18238348e-01, 1.77361548e-01, 1.01869635e-01,\n",
       "       6.10639863e-02, 3.55787016e-02, 2.24792976e-02, 1.40164383e-02,\n",
       "       8.50702543e-03, 5.86515013e-03, 3.36765335e-03, 1.80778711e-03,\n",
       "       1.68038381e-03, 1.28881773e-03, 9.57379758e-04, 1.71738293e-03,\n",
       "       7.18061405e-04, 6.38553291e-04, 4.32211265e-04, 4.43756056e-04,\n",
       "       4.68217826e-04, 1.38794407e-04, 1.82368822e-04, 9.96344723e-04,\n",
       "       2.63656984e-04, 1.38558520e-04, 1.38150202e-03, 1.24983359e-04,\n",
       "       1.62813711e-04, 1.26216750e-04, 4.20982280e-04, 2.13678359e-04,\n",
       "       4.90248320e-04, 3.36757919e-04, 3.05018883e-04, 5.46917785e-04],\n",
       "      dtype=float32)"
      ]
     },
     "execution_count": 9,
     "metadata": {},
     "output_type": "execute_result"
    }
   ],
   "source": [
    "ydata"
   ]
  },
  {
   "cell_type": "code",
   "execution_count": 15,
   "id": "lonely-metadata",
   "metadata": {},
   "outputs": [],
   "source": [
    "popt = zeros(5)  \n",
    "popt, pcov = curve_fit(func_light, xdata, ydata, p0 = popt, maxfev = 120000, bounds = [-1,1])"
   ]
  },
  {
   "cell_type": "code",
   "execution_count": 89,
   "id": "prospective-heather",
   "metadata": {},
   "outputs": [
    {
     "name": "stdout",
     "output_type": "stream",
     "text": [
      "par0 = 0.08118787223744216\n",
      "par1 = -0.6362557021027739\n",
      "par2 = 0.01143712998969338\n",
      "par3 = 1.142707756756366e-05\n",
      "par4 = -0.00014995176601499091\n"
     ]
    }
   ],
   "source": [
    "for i in range(len(popt)):\n",
    "    print(f\"par{i} = {popt[i]}\")"
   ]
  },
  {
   "cell_type": "code",
   "execution_count": 67,
   "id": "lesser-dayton",
   "metadata": {},
   "outputs": [
    {
     "name": "stdout",
     "output_type": "stream",
     "text": [
      "par0 = 0.08118787223744216\n",
      "par1 = -0.6362557021027739\n",
      "par2 = 0.01143712998969338\n",
      "par3 = 1.142707756756366e-05\n",
      "par4 = -0.00014995176601499091\n"
     ]
    }
   ],
   "source": [
    "for i in range(len(popt)):\n",
    "    print(f\"par{i} = {popt[i]}\")"
   ]
  },
  {
   "cell_type": "code",
   "execution_count": 109,
   "id": "stuck-sport",
   "metadata": {},
   "outputs": [
    {
     "name": "stdout",
     "output_type": "stream",
     "text": [
      "0.0001384563241929822\n",
      "Hist\tCalc Package\tChi Sq\t Chi2/dof\n",
      "SciPy\tPython\t0.004430602374175431\t0.0001384563241929822\n"
     ]
    }
   ],
   "source": [
    "# Calculate chi Squared\n",
    "f_opti = func_light(xdata,*popt)\n",
    "ch2_opti = np.sum( (ydata-f_opti)**2/ydata)\n",
    "# Calculate Degrees of Freedom with 5 fit parameters\n",
    "lenx = len(xdata)\n",
    "dof = lenx-len(popt)\n",
    "Chi2_dof = str(ch2_opti/dof)\n",
    "print(Chi2_dof)\n",
    "print('Hist\\tCalc Package\\tChi Sq\\t Chi2/dof')\n",
    "print('SciPy\\tPython\\t{0}\\t{1}'.format(ch2_opti, ch2_opti/dof))"
   ]
  },
  {
   "cell_type": "code",
   "execution_count": 110,
   "id": "educated-chair",
   "metadata": {},
   "outputs": [
    {
     "data": {
      "text/plain": [
       "array([5.80480278e-01, 3.18238348e-01, 1.77361548e-01, 1.01869635e-01,\n",
       "       6.10639863e-02, 3.55787016e-02, 2.24792976e-02, 1.40164383e-02,\n",
       "       8.50702543e-03, 5.86515013e-03, 3.36765335e-03, 1.80778711e-03,\n",
       "       1.68038381e-03, 1.28881773e-03, 9.57379758e-04, 1.71738293e-03,\n",
       "       7.18061405e-04, 6.38553291e-04, 4.32211265e-04, 4.43756056e-04,\n",
       "       4.68217826e-04, 1.38794407e-04, 1.82368822e-04, 9.96344723e-04,\n",
       "       2.63656984e-04, 1.38558520e-04, 1.38150202e-03, 1.24983359e-04,\n",
       "       1.62813711e-04, 1.26216750e-04, 4.20982280e-04, 2.13678359e-04,\n",
       "       4.90248320e-04, 3.36757919e-04, 3.05018883e-04, 5.46917785e-04,\n",
       "       7.13861897e-04], dtype=float32)"
      ]
     },
     "execution_count": 110,
     "metadata": {},
     "output_type": "execute_result"
    }
   ],
   "source": [
    "%matplotlib qt\n",
    "figure()\n",
    "title(\"Drell-Yan light fake rate\")\n",
    "ylabel(\"fake rate\")\n",
    "xlabel(\"Jet track multiplicity\")\n",
    "x_major_locator=MultipleLocator(1)\n",
    "original_data, = plot(xdata, ydata,\"x\")\n",
    "fitcurve_data, = plot(xdata, func_light(xdata,*popt))\n",
    "text, = plot(0,0,\"white\")\n",
    "l1 = legend([original_data,fitcurve_data,text],[\"Drell-Yan light fake rate\",\"fitting curve\",\"Chi2/dof = \"+Chi2_dof],loc = 'upper right')\n",
    "#figure()\n",
    "#title(\" data / fit result\")\n",
    "# plot(testx, testy)\n",
    "#plot(testx, testy/func(testx,*popt))\n",
    "ydata"
   ]
  },
  {
   "cell_type": "code",
   "execution_count": 111,
   "id": "scheduled-ocean",
   "metadata": {},
   "outputs": [
    {
     "data": {
      "text/plain": [
       "'HT_cjet_fakeRate'"
      ]
     },
     "execution_count": 111,
     "metadata": {},
     "output_type": "execute_result"
    }
   ],
   "source": [
    "file[\"HT_cjet_fakeRate\"].member(\"fName\")"
   ]
  },
  {
   "cell_type": "code",
   "execution_count": 113,
   "id": "correct-encounter",
   "metadata": {},
   "outputs": [
    {
     "data": {
      "text/plain": [
       "array([0.0000000e+00, 3.9170370e-01, 1.6859736e-01, 8.8859290e-02,\n",
       "       5.5571698e-02, 3.3747010e-02, 1.8293547e-02, 1.2556858e-02,\n",
       "       9.0257218e-03, 6.2308582e-03, 4.8960820e-03, 2.8664437e-03,\n",
       "       2.5033241e-03, 1.6508430e-03, 1.0444091e-03, 2.5604027e-03,\n",
       "       1.1428441e-03, 4.1687026e-04, 8.4338844e-04, 1.5926908e-04,\n",
       "       1.0101123e-04, 3.7824918e-04, 3.4863618e-04, 1.3485903e-04,\n",
       "       1.6666502e-04, 1.5703557e-04, 1.9392524e-04, 3.7917891e-04,\n",
       "       4.0242684e-04, 0.0000000e+00, 0.0000000e+00, 0.0000000e+00,\n",
       "       0.0000000e+00, 0.0000000e+00, 0.0000000e+00, 2.2554912e-03,\n",
       "       0.0000000e+00, 0.0000000e+00, 0.0000000e+00, 0.0000000e+00,\n",
       "       0.0000000e+00, 0.0000000e+00, 0.0000000e+00, 0.0000000e+00,\n",
       "       0.0000000e+00, 0.0000000e+00, 0.0000000e+00, 1.3077877e-03,\n",
       "       0.0000000e+00, 0.0000000e+00], dtype=float32)"
      ]
     },
     "execution_count": 113,
     "metadata": {},
     "output_type": "execute_result"
    }
   ],
   "source": [
    "file[\"HT_cjet_fakeRate\"].values()"
   ]
  },
  {
   "cell_type": "code",
   "execution_count": 112,
   "id": "nonprofit-disorder",
   "metadata": {},
   "outputs": [
    {
     "data": {
      "text/plain": [
       "array([ 0.,  1.,  2.,  3.,  4.,  5.,  6.,  7.,  8.,  9., 10., 11., 12.,\n",
       "       13., 14., 15., 16., 17., 18., 19., 20., 21., 22., 23., 24., 25.,\n",
       "       26., 27., 28., 29., 30., 31., 32., 33., 34., 35., 36., 37., 38.,\n",
       "       39., 40., 41., 42., 43., 44., 45., 46., 47., 48., 49., 50.])"
      ]
     },
     "execution_count": 112,
     "metadata": {},
     "output_type": "execute_result"
    }
   ],
   "source": [
    "file[\"HT_cjet_fakeRate\"].axis().edges()"
   ]
  },
  {
   "cell_type": "code",
   "execution_count": 23,
   "id": "higher-therapist",
   "metadata": {},
   "outputs": [
    {
     "data": {
      "text/plain": [
       "array([3.9170370e-01, 1.6859736e-01, 8.8859290e-02, 5.5571698e-02,\n",
       "       3.3747010e-02, 1.8293547e-02, 1.2556858e-02, 9.0257218e-03,\n",
       "       6.2308582e-03, 4.8960820e-03, 2.8664437e-03, 2.5033241e-03,\n",
       "       1.6508430e-03, 1.0444091e-03, 2.5604027e-03, 1.1428441e-03,\n",
       "       4.1687026e-04, 8.4338844e-04, 1.5926908e-04, 1.0101123e-04,\n",
       "       3.7824918e-04, 3.4863618e-04, 1.3485903e-04, 1.6666502e-04,\n",
       "       1.5703557e-04, 1.9392524e-04, 3.7917891e-04, 4.0242684e-04],\n",
       "      dtype=float32)"
      ]
     },
     "execution_count": 23,
     "metadata": {},
     "output_type": "execute_result"
    }
   ],
   "source": [
    "cjet_data = file[\"HT_cjet_fakeRate\"].axis().edges()[1:-22]\n",
    "cjet_ydata = file[\"HT_cjet_fakeRate\"].values()[1:-21]\n",
    "cjet_ydata"
   ]
  },
  {
   "cell_type": "code",
   "execution_count": 31,
   "id": "democratic-sense",
   "metadata": {},
   "outputs": [],
   "source": [
    "popt = zeros(5)  \n",
    "popt, pcov = curve_fit(func_light, cjet_data, cjet_ydata, p0 = popt, maxfev = 120000, bounds = [-1,1])"
   ]
  },
  {
   "cell_type": "code",
   "execution_count": 32,
   "id": "sapphire-fairy",
   "metadata": {},
   "outputs": [
    {
     "name": "stdout",
     "output_type": "stream",
     "text": [
      "0.003879536074908298\n",
      "Hist\tCalc Package\tChi Sq\t Chi2/dof\n",
      "SciPy\tPython\t0.08922932972289085\t0.003879536074908298\n"
     ]
    }
   ],
   "source": [
    "# Calculate chi Squared\n",
    "f_opti = func_light(cjet_data,*popt)\n",
    "ch2_opti = np.sum( (cjet_ydata-f_opti)**2/cjet_ydata)\n",
    "# Calculate Degrees of Freedom with 5 fit parameters\n",
    "lenx = len(cjet_data)\n",
    "dof = lenx-len(popt)\n",
    "Chi2_dof = str(ch2_opti/dof)\n",
    "print(Chi2_dof)\n",
    "print('Hist\\tCalc Package\\tChi Sq\\t Chi2/dof')\n",
    "print('SciPy\\tPython\\t{0}\\t{1}'.format(ch2_opti, ch2_opti/dof))"
   ]
  },
  {
   "cell_type": "code",
   "execution_count": 35,
   "id": "future-martial",
   "metadata": {},
   "outputs": [
    {
     "data": {
      "text/plain": [
       "[<matplotlib.lines.Line2D at 0x7f0744d9b160>]"
      ]
     },
     "execution_count": 35,
     "metadata": {},
     "output_type": "execute_result"
    }
   ],
   "source": [
    "%matplotlib qt\n",
    "figure()\n",
    "title(\"Drell-Yan c flavor fake rate\")\n",
    "ylabel(\"fake rate\")\n",
    "xlabel(\"Jet track multiplicity\")\n",
    "x_major_locator=MultipleLocator(1)\n",
    "original_data, = plot(cjet_data, cjet_ydata,\"x\")\n",
    "fitcurve_data, = plot(cjet_data, func_light(cjet_data,*popt))\n",
    "text, = plot(0,0,\"white\")\n",
    "l1 = legend([original_data,fitcurve_data,text],[\"Drell-Yan c fake rate\",\"fitting curve\",\"Chi2/dof = \"+Chi2_dof],loc = 'upper right')\n",
    "figure()\n",
    "title(\" data / fit result\")\n",
    "#plot(cjet_data, cjet_ydata)\n",
    "plot(cjet_data, cjet_ydata/func_light(cjet_data,*popt))\n",
    "#ydata"
   ]
  },
  {
   "cell_type": "code",
   "execution_count": 34,
   "id": "composite-boring",
   "metadata": {},
   "outputs": [
    {
     "name": "stdout",
     "output_type": "stream",
     "text": [
      "par0 = -0.10557440603585307\n",
      "par1 = -0.8893172920695503\n",
      "par2 = 0.025566810720580063\n",
      "par3 = -0.0005419338150656056\n",
      "par4 = 0.010383771083006236\n"
     ]
    }
   ],
   "source": [
    "for i in range(len(popt)):\n",
    "    print(f\"par{i} = {popt[i]}\")"
   ]
  },
  {
   "cell_type": "code",
   "execution_count": null,
   "id": "unique-shakespeare",
   "metadata": {},
   "outputs": [],
   "source": []
  }
 ],
 "metadata": {
  "kernelspec": {
   "display_name": "Python 3",
   "language": "python",
   "name": "python3"
  },
  "language_info": {
   "codemirror_mode": {
    "name": "ipython",
    "version": 3
   },
   "file_extension": ".py",
   "mimetype": "text/x-python",
   "name": "python",
   "nbconvert_exporter": "python",
   "pygments_lexer": "ipython3",
   "version": "3.8.10"
  }
 },
 "nbformat": 4,
 "nbformat_minor": 5
}
