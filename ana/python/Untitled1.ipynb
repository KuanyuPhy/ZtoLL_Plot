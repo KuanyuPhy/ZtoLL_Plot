{
 "cells": [
  {
   "cell_type": "code",
   "execution_count": 2,
   "id": "81a96d59",
   "metadata": {},
   "outputs": [
    {
     "name": "stdout",
     "output_type": "stream",
     "text": [
      "Welcome to JupyROOT 6.24/00\n"
     ]
    }
   ],
   "source": [
    "import uproot as up\n",
    "from numpy import *\n",
    "import scipy as sp\n",
    "from scipy.optimize import curve_fit\n",
    "from scipy.stats import chi2\n",
    "from matplotlib.pyplot import *\n",
    "from ROOT import TCanvas, TGraph, TH1F,TFile, TF1, gStyle, TH1D"
   ]
  },
  {
   "cell_type": "code",
   "execution_count": 3,
   "id": "59dceb1a",
   "metadata": {},
   "outputs": [],
   "source": [
    "file = up.open(\"/home/kuanyu/CMS/ZtoLL_Plot/ana/ee/cut_optimize/top/ee_Top_emjet_half.root\")"
   ]
  },
  {
   "cell_type": "code",
   "execution_count": 4,
   "id": "4762bf65",
   "metadata": {},
   "outputs": [
    {
     "data": {
      "text/plain": [
       "'Top_bjet_fakeRate'"
      ]
     },
     "execution_count": 4,
     "metadata": {},
     "output_type": "execute_result"
    }
   ],
   "source": [
    "file[\"Top_bjet_fakeRate\"].member(\"fName\")"
   ]
  },
  {
   "cell_type": "code",
   "execution_count": 5,
   "id": "e7f877a8",
   "metadata": {},
   "outputs": [
    {
     "data": {
      "text/plain": [
       "array([ 0.0000000e+00,  5.6926626e-01,  3.7740618e-01,  3.0531123e-01,\n",
       "        2.4599889e-01,  1.9625470e-01,  1.5318944e-01,  1.1857069e-01,\n",
       "        9.4912045e-02,  7.2369583e-02,  5.2584216e-02,  4.1071031e-02,\n",
       "        3.1191565e-02,  2.0434190e-02,  1.5691187e-02,  1.4822576e-02,\n",
       "        9.1722803e-03,  8.7026330e-03,  4.9185073e-03,  2.0974677e-03,\n",
       "        1.0793440e-03,  3.3879415e-03,  2.6297271e-03,  1.0728144e-04,\n",
       "        5.1969234e-03,  0.0000000e+00,  0.0000000e+00,  0.0000000e+00,\n",
       "        0.0000000e+00,  0.0000000e+00,  0.0000000e+00,  0.0000000e+00,\n",
       "        0.0000000e+00,  0.0000000e+00,  0.0000000e+00,  0.0000000e+00,\n",
       "        0.0000000e+00,  0.0000000e+00,  0.0000000e+00,  0.0000000e+00,\n",
       "        0.0000000e+00,  0.0000000e+00,  0.0000000e+00,  0.0000000e+00,\n",
       "       -0.0000000e+00,  0.0000000e+00,  0.0000000e+00, -0.0000000e+00,\n",
       "        0.0000000e+00, -0.0000000e+00], dtype=float32)"
      ]
     },
     "execution_count": 5,
     "metadata": {},
     "output_type": "execute_result"
    }
   ],
   "source": [
    "file[\"Top_bjet_fakeRate\"].values()"
   ]
  },
  {
   "cell_type": "code",
   "execution_count": 6,
   "id": "f7bc719f",
   "metadata": {},
   "outputs": [],
   "source": [
    "def func_b(x,*par):\n",
    "    return exp(par[0]+par[1]*x+par[2]*x*x) + par[3] * x +  par[4]"
   ]
  },
  {
   "cell_type": "code",
   "execution_count": 23,
   "id": "e2575a71",
   "metadata": {},
   "outputs": [],
   "source": [
    "def func_c(x,*par):\n",
    "    return exp(par[0]+par[1]*x) + par[2] * x +  par[3]"
   ]
  },
  {
   "cell_type": "code",
   "execution_count": 7,
   "id": "0492eb2b",
   "metadata": {},
   "outputs": [
    {
     "data": {
      "text/plain": [
       "array([5.6926626e-01, 3.7740618e-01, 3.0531123e-01, 2.4599889e-01,\n",
       "       1.9625470e-01, 1.5318944e-01, 1.1857069e-01, 9.4912045e-02,\n",
       "       7.2369583e-02, 5.2584216e-02, 4.1071031e-02, 3.1191565e-02,\n",
       "       2.0434190e-02, 1.5691187e-02, 1.4822576e-02, 9.1722803e-03,\n",
       "       8.7026330e-03, 4.9185073e-03, 2.0974677e-03, 1.0793440e-03,\n",
       "       3.3879415e-03, 2.6297271e-03, 1.0728144e-04, 5.1969234e-03],\n",
       "      dtype=float32)"
      ]
     },
     "execution_count": 7,
     "metadata": {},
     "output_type": "execute_result"
    }
   ],
   "source": [
    "xdata = file[\"Top_bjet_fakeRate\"].axis().edges()[1:-26]\n",
    "ydata = file[\"Top_bjet_fakeRate\"].values()[1:-25]\n",
    "ydata"
   ]
  },
  {
   "cell_type": "code",
   "execution_count": 8,
   "id": "aa3567de",
   "metadata": {},
   "outputs": [],
   "source": [
    "popt = zeros(5)  \n",
    "popt, pcov = curve_fit(func_b, xdata, ydata, p0 = popt, maxfev = 120000, bounds = [-1,1])"
   ]
  },
  {
   "cell_type": "code",
   "execution_count": 9,
   "id": "1528bdb2",
   "metadata": {},
   "outputs": [
    {
     "name": "stdout",
     "output_type": "stream",
     "text": [
      "par0 = -0.31213349853753525\n",
      "par1 = -0.3369597634649318\n",
      "par2 = 0.01007077697094194\n",
      "par3 = -0.003960699254309169\n",
      "par4 = 0.0291339908830591\n"
     ]
    }
   ],
   "source": [
    "for i in range(len(popt)):\n",
    "    print(f\"par{i} = {popt[i]}\")"
   ]
  },
  {
   "cell_type": "code",
   "execution_count": 11,
   "id": "ed159caa",
   "metadata": {},
   "outputs": [
    {
     "name": "stdout",
     "output_type": "stream",
     "text": [
      "0.0057862296089215256\n",
      "Hist\tCalc Package\tChi Sq\t Chi2/dof\n",
      "SciPy\tPython\t0.10993836256950898\t0.0057862296089215256\n"
     ]
    }
   ],
   "source": [
    "# Calculate chi Squared\n",
    "f_opti = func_b(xdata,*popt)\n",
    "ch2_opti = np.sum( (ydata-f_opti)**2/ydata)\n",
    "# Calculate Degrees of Freedom with 5 fit parameters\n",
    "lenx = len(xdata)\n",
    "dof = lenx-len(popt)\n",
    "Chi2_dof = str(ch2_opti/dof)\n",
    "print(Chi2_dof)\n",
    "print('Hist\\tCalc Package\\tChi Sq\\t Chi2/dof')\n",
    "print('SciPy\\tPython\\t{0}\\t{1}'.format(ch2_opti, ch2_opti/dof))"
   ]
  },
  {
   "cell_type": "code",
   "execution_count": 10,
   "id": "1f977ddc",
   "metadata": {},
   "outputs": [
    {
     "data": {
      "text/plain": [
       "array([5.6926626e-01, 3.7740618e-01, 3.0531123e-01, 2.4599889e-01,\n",
       "       1.9625470e-01, 1.5318944e-01, 1.1857069e-01, 9.4912045e-02,\n",
       "       7.2369583e-02, 5.2584216e-02, 4.1071031e-02, 3.1191565e-02,\n",
       "       2.0434190e-02, 1.5691187e-02, 1.4822576e-02, 9.1722803e-03,\n",
       "       8.7026330e-03, 4.9185073e-03, 2.0974677e-03, 1.0793440e-03,\n",
       "       3.3879415e-03, 2.6297271e-03, 1.0728144e-04, 5.1969234e-03],\n",
       "      dtype=float32)"
      ]
     },
     "execution_count": 10,
     "metadata": {},
     "output_type": "execute_result"
    },
    {
     "name": "stderr",
     "output_type": "stream",
     "text": [
      "qt.qpa.gl: QXcbConnection: Failed to initialize GLX\n",
      "libEGL warning: DRI3: failed to query the version\n",
      "libEGL warning: DRI2: failed to authenticate\n",
      "qt.qpa.xcb: QXcbConnection: XCB error: 1 (BadRequest), sequence: 407, resource id: 384, major code: 139 (Unknown), minor code: 1\n"
     ]
    }
   ],
   "source": [
    "%matplotlib qt\n",
    "figure()\n",
    "title(\"Top b fake rate\")\n",
    "ylabel(\"fake rate\")\n",
    "xlabel(\"Jet track multiplicity\")\n",
    "x_major_locator=MultipleLocator(1)\n",
    "original_data, = plot(xdata, ydata,\"x\")\n",
    "fitcurve_data, = plot(xdata, func_b(xdata,*popt))\n",
    "text, = plot(0,0,\"white\")\n",
    "l1 = legend([original_data,fitcurve_data],[\"Top b fake rate\",\"fitting curve\"],loc = 'upper right')\n",
    "figure()\n",
    "#title(\" data / fit result\")\n",
    "# plot(testx, testy)\n",
    "#plot(testx, testy/func(testx,*popt))\n",
    "ydata"
   ]
  },
  {
   "cell_type": "code",
   "execution_count": 12,
   "id": "13d4fa39",
   "metadata": {},
   "outputs": [
    {
     "data": {
      "text/plain": [
       "'Top_cjet_fakeRate'"
      ]
     },
     "execution_count": 12,
     "metadata": {},
     "output_type": "execute_result"
    }
   ],
   "source": [
    "file[\"Top_cjet_fakeRate\"].member(\"fName\")"
   ]
  },
  {
   "cell_type": "code",
   "execution_count": 13,
   "id": "7f12c70f",
   "metadata": {},
   "outputs": [
    {
     "data": {
      "text/plain": [
       "array([ 0.0000000e+00,  3.5072583e-01,  1.4851704e-01,  9.1632336e-02,\n",
       "        6.0634229e-02,  3.0721340e-02,  1.7946236e-02,  8.6834114e-03,\n",
       "        6.1223335e-03,  9.4551705e-03,  2.2701472e-03,  4.0948461e-03,\n",
       "        2.7139315e-03,  3.4335867e-04,  1.2096359e-04,  8.2050326e-05,\n",
       "        4.1158142e-04,  4.3082717e-03, -1.8899479e-04,  0.0000000e+00,\n",
       "        5.2919507e-04,  0.0000000e+00,  0.0000000e+00,  0.0000000e+00,\n",
       "        0.0000000e+00,  0.0000000e+00,  0.0000000e+00,  0.0000000e+00,\n",
       "        0.0000000e+00,  0.0000000e+00,  0.0000000e+00,  0.0000000e+00,\n",
       "        0.0000000e+00,  0.0000000e+00,  0.0000000e+00,  0.0000000e+00,\n",
       "        0.0000000e+00,  0.0000000e+00,  0.0000000e+00,  0.0000000e+00,\n",
       "        0.0000000e+00,  0.0000000e+00,  0.0000000e+00,  0.0000000e+00,\n",
       "       -0.0000000e+00,  0.0000000e+00,  0.0000000e+00,  0.0000000e+00,\n",
       "        0.0000000e+00,  0.0000000e+00], dtype=float32)"
      ]
     },
     "execution_count": 13,
     "metadata": {},
     "output_type": "execute_result"
    }
   ],
   "source": [
    "file[\"Top_cjet_fakeRate\"].values()"
   ]
  },
  {
   "cell_type": "code",
   "execution_count": 17,
   "id": "bfb417a7",
   "metadata": {},
   "outputs": [
    {
     "data": {
      "text/plain": [
       "array([ 3.5072583e-01,  1.4851704e-01,  9.1632336e-02,  6.0634229e-02,\n",
       "        3.0721340e-02,  1.7946236e-02,  8.6834114e-03,  6.1223335e-03,\n",
       "        9.4551705e-03,  2.2701472e-03,  4.0948461e-03,  2.7139315e-03,\n",
       "        3.4335867e-04,  1.2096359e-04,  8.2050326e-05,  4.1158142e-04,\n",
       "        4.3082717e-03, -1.8899479e-04], dtype=float32)"
      ]
     },
     "execution_count": 17,
     "metadata": {},
     "output_type": "execute_result"
    }
   ],
   "source": [
    "xdata = file[\"Top_cjet_fakeRate\"].axis().edges()[1:-32]\n",
    "ydata = file[\"Top_cjet_fakeRate\"].values()[1:-31]\n",
    "ydata"
   ]
  },
  {
   "cell_type": "code",
   "execution_count": 24,
   "id": "8f2f4172",
   "metadata": {},
   "outputs": [],
   "source": [
    "popt = zeros(4)  \n",
    "popt, pcov = curve_fit(func_c, xdata, ydata, p0 = popt, maxfev = 120000, bounds = [-1,1])"
   ]
  },
  {
   "cell_type": "code",
   "execution_count": 25,
   "id": "f3ace477",
   "metadata": {},
   "outputs": [
    {
     "name": "stdout",
     "output_type": "stream",
     "text": [
      "par0 = -0.3248291488513345\n",
      "par1 = -0.7911177718871826\n",
      "par2 = -0.0012678123101242413\n",
      "par3 = 0.01978378986710919\n"
     ]
    }
   ],
   "source": [
    "for i in range(len(popt)):\n",
    "    print(f\"par{i} = {popt[i]}\")"
   ]
  },
  {
   "cell_type": "code",
   "execution_count": 27,
   "id": "b446f544",
   "metadata": {},
   "outputs": [
    {
     "name": "stdout",
     "output_type": "stream",
     "text": [
      "0.004112417660806254\n",
      "Hist\tCalc Package\tChi Sq\t Chi2/dof\n",
      "SciPy\tPython\t0.05757384725128755\t0.004112417660806254\n"
     ]
    }
   ],
   "source": [
    "# Calculate chi Squared\n",
    "f_opti = func_c(xdata,*popt)\n",
    "ch2_opti = np.sum( (ydata-f_opti)**2/ydata)\n",
    "# Calculate Degrees of Freedom with 5 fit parameters\n",
    "lenx = len(xdata)\n",
    "dof = lenx-len(popt)\n",
    "Chi2_dof = str(ch2_opti/dof)\n",
    "print(Chi2_dof)\n",
    "print('Hist\\tCalc Package\\tChi Sq\\t Chi2/dof')\n",
    "print('SciPy\\tPython\\t{0}\\t{1}'.format(ch2_opti, ch2_opti/dof))"
   ]
  },
  {
   "cell_type": "code",
   "execution_count": 31,
   "id": "e43bd092",
   "metadata": {},
   "outputs": [
    {
     "data": {
      "text/plain": [
       "array([ 3.5072583e-01,  1.4851704e-01,  9.1632336e-02,  6.0634229e-02,\n",
       "        3.0721340e-02,  1.7946236e-02,  8.6834114e-03,  6.1223335e-03,\n",
       "        9.4551705e-03,  2.2701472e-03,  4.0948461e-03,  2.7139315e-03,\n",
       "        3.4335867e-04,  1.2096359e-04,  8.2050326e-05,  4.1158142e-04,\n",
       "        4.3082717e-03, -1.8899479e-04], dtype=float32)"
      ]
     },
     "execution_count": 31,
     "metadata": {},
     "output_type": "execute_result"
    }
   ],
   "source": [
    "%matplotlib qt\n",
    "figure()\n",
    "title(\"Top c fake rate\")\n",
    "ylabel(\"fake rate\")\n",
    "xlabel(\"Jet track multiplicity\")\n",
    "x_major_locator=MultipleLocator(1)\n",
    "original_data, = plot(xdata, ydata,\"x\")\n",
    "fitcurve_data, = plot(xdata, func_c(xdata,*popt))\n",
    "text, = plot(0,0,\"white\")\n",
    "l1 = legend([original_data,fitcurve_data],[\"Top c fake rate\",\"fitting curve\"],loc = 'upper right')\n",
    "figure()\n",
    "#title(\" data / fit result\")\n",
    "# plot(testx, testy)\n",
    "#plot(testx, testy/func(testx,*popt))\n",
    "ydata"
   ]
  },
  {
   "cell_type": "code",
   "execution_count": 32,
   "id": "e6ea5fa3",
   "metadata": {},
   "outputs": [
    {
     "data": {
      "text/plain": [
       "'Top_light_fakeRate'"
      ]
     },
     "execution_count": 32,
     "metadata": {},
     "output_type": "execute_result"
    }
   ],
   "source": [
    "file[\"Top_light_fakeRate\"].member(\"fName\")"
   ]
  },
  {
   "cell_type": "code",
   "execution_count": 33,
   "id": "a93d5c93",
   "metadata": {},
   "outputs": [
    {
     "data": {
      "text/plain": [
       "array([ 0.0000000e+00,  4.5878190e-01,  2.4679099e-01,  1.3140407e-01,\n",
       "        6.4531557e-02,  3.6118936e-02,  1.8966639e-02,  1.0530735e-02,\n",
       "        5.3410428e-03,  3.8052590e-03,  2.3564715e-03,  1.8183951e-03,\n",
       "        1.0321132e-03,  8.5489929e-04,  7.5348141e-04,  1.0192371e-03,\n",
       "        1.5965397e-03,  4.7974542e-04, -4.0524690e-05,  5.3850261e-05,\n",
       "        9.7683561e-04,  4.8749222e-05,  5.8759702e-05,  2.0974900e-03,\n",
       "        0.0000000e+00,  0.0000000e+00,  1.7977122e-04,  0.0000000e+00,\n",
       "        0.0000000e+00,  0.0000000e+00, -5.3015718e-04,  0.0000000e+00,\n",
       "        0.0000000e+00,  0.0000000e+00,  0.0000000e+00,  0.0000000e+00,\n",
       "        0.0000000e+00,  0.0000000e+00,  0.0000000e+00,  0.0000000e+00,\n",
       "        0.0000000e+00,  0.0000000e+00,  0.0000000e+00,  0.0000000e+00,\n",
       "        0.0000000e+00,  0.0000000e+00,  0.0000000e+00,  0.0000000e+00,\n",
       "        0.0000000e+00, -0.0000000e+00], dtype=float32)"
      ]
     },
     "execution_count": 33,
     "metadata": {},
     "output_type": "execute_result"
    }
   ],
   "source": [
    "file[\"Top_light_fakeRate\"].values()"
   ]
  },
  {
   "cell_type": "code",
   "execution_count": 37,
   "id": "d418fc9b",
   "metadata": {},
   "outputs": [
    {
     "data": {
      "text/plain": [
       "array([ 4.5878190e-01,  2.4679099e-01,  1.3140407e-01,  6.4531557e-02,\n",
       "        3.6118936e-02,  1.8966639e-02,  1.0530735e-02,  5.3410428e-03,\n",
       "        3.8052590e-03,  2.3564715e-03,  1.8183951e-03,  1.0321132e-03,\n",
       "        8.5489929e-04,  7.5348141e-04,  1.0192371e-03,  1.5965397e-03,\n",
       "        4.7974542e-04, -4.0524690e-05,  5.3850261e-05,  9.7683561e-04,\n",
       "        4.8749222e-05,  5.8759702e-05,  2.0974900e-03], dtype=float32)"
      ]
     },
     "execution_count": 37,
     "metadata": {},
     "output_type": "execute_result"
    }
   ],
   "source": [
    "xdata = file[\"Top_light_fakeRate\"].axis().edges()[1:-27]\n",
    "ydata = file[\"Top_light_fakeRate\"].values()[1:-26]\n",
    "ydata"
   ]
  },
  {
   "cell_type": "code",
   "execution_count": 39,
   "id": "1c941c55",
   "metadata": {},
   "outputs": [],
   "source": [
    "popt = zeros(5)  \n",
    "popt, pcov = curve_fit(func_b, xdata, ydata, p0 = popt, maxfev = 120000, bounds = [-1,1])"
   ]
  },
  {
   "cell_type": "code",
   "execution_count": 40,
   "id": "dfcddcf1",
   "metadata": {},
   "outputs": [
    {
     "name": "stdout",
     "output_type": "stream",
     "text": [
      "par0 = -0.1801414778747165\n",
      "par1 = -0.5934543801756226\n",
      "par2 = -0.010654744833624658\n",
      "par3 = -9.762305271053515e-05\n",
      "par4 = 0.0025466629971345888\n"
     ]
    }
   ],
   "source": [
    "for i in range(len(popt)):\n",
    "    print(f\"par{i} = {popt[i]}\")"
   ]
  },
  {
   "cell_type": "code",
   "execution_count": 45,
   "id": "1b884200",
   "metadata": {},
   "outputs": [
    {
     "name": "stdout",
     "output_type": "stream",
     "text": [
      "2.6738851144411427e-06\n",
      "Hist\tCalc Package\tChi Sq\t Chi2/dof\n",
      "SciPy\tPython\t4.812993205994057e-05\t2.6738851144411427e-06\n"
     ]
    }
   ],
   "source": [
    "f_opti = func_b(xdata,*popt)\n",
    "ch2_opti = np.sum( (ydata-f_opti)**2/ydata)\n",
    "# Calculate Degrees of Freedom with 5 fit parameters\n",
    "lenx = len(xdata)\n",
    "dof = lenx-len(popt)\n",
    "Chi2_dof = str(ch2_opti/dof)\n",
    "print(Chi2_dof)\n",
    "print('Hist\\tCalc Package\\tChi Sq\\t Chi2/dof')\n",
    "print('SciPy\\tPython\\t{0}\\t{1}'.format(ch2_opti, ch2_opti/dof))"
   ]
  },
  {
   "cell_type": "code",
   "execution_count": 48,
   "id": "45627107",
   "metadata": {},
   "outputs": [
    {
     "data": {
      "text/plain": [
       "array([ 4.5878190e-01,  2.4679099e-01,  1.3140407e-01,  6.4531557e-02,\n",
       "        3.6118936e-02,  1.8966639e-02,  1.0530735e-02,  5.3410428e-03,\n",
       "        3.8052590e-03,  2.3564715e-03,  1.8183951e-03,  1.0321132e-03,\n",
       "        8.5489929e-04,  7.5348141e-04,  1.0192371e-03,  1.5965397e-03,\n",
       "        4.7974542e-04, -4.0524690e-05,  5.3850261e-05,  9.7683561e-04,\n",
       "        4.8749222e-05,  5.8759702e-05,  2.0974900e-03], dtype=float32)"
      ]
     },
     "execution_count": 48,
     "metadata": {},
     "output_type": "execute_result"
    }
   ],
   "source": [
    "%matplotlib qt\n",
    "figure()\n",
    "title(\"Top light fake rate\")\n",
    "ylabel(\"fake rate\")\n",
    "xlabel(\"Jet track multiplicity\")\n",
    "x_major_locator=MultipleLocator(1)\n",
    "original_data, = plot(xdata, ydata,\"x\")\n",
    "fitcurve_data, = plot(xdata, func_b(xdata,*popt))\n",
    "text, = plot(0,0,\"white\")\n",
    "l1 = legend([original_data,fitcurve_data],[\"Top light fake rate\",\"fitting curve\"],loc = 'upper right')\n",
    "figure()\n",
    "#title(\" data / fit result\")\n",
    "# plot(testx, testy)\n",
    "#plot(testx, testy/func(testx,*popt))\n",
    "ydata"
   ]
  },
  {
   "cell_type": "code",
   "execution_count": null,
   "id": "0f9b9a4c",
   "metadata": {},
   "outputs": [],
   "source": []
  }
 ],
 "metadata": {
  "kernelspec": {
   "display_name": "Python 3 (ipykernel)",
   "language": "python",
   "name": "python3"
  },
  "language_info": {
   "codemirror_mode": {
    "name": "ipython",
    "version": 3
   },
   "file_extension": ".py",
   "mimetype": "text/x-python",
   "name": "python",
   "nbconvert_exporter": "python",
   "pygments_lexer": "ipython3",
   "version": "3.8.10"
  }
 },
 "nbformat": 4,
 "nbformat_minor": 5
}
