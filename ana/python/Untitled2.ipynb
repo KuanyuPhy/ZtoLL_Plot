{
 "cells": [
  {
   "cell_type": "code",
   "execution_count": 1,
   "id": "helpful-sleep",
   "metadata": {},
   "outputs": [
    {
     "name": "stdout",
     "output_type": "stream",
     "text": [
      "Welcome to JupyROOT 6.26/00\n"
     ]
    }
   ],
   "source": [
    "import uproot as up\n",
    "from numpy import *\n",
    "import scipy as sp\n",
    "from scipy.optimize import curve_fit\n",
    "from scipy.stats import chi2\n",
    "from matplotlib.pyplot import *\n",
    "from ROOT import TCanvas, TGraph, TH1F,TFile, TF1, gStyle, TH1D"
   ]
  },
  {
   "cell_type": "code",
   "execution_count": 2,
   "id": "skilled-bathroom",
   "metadata": {},
   "outputs": [],
   "source": [
    "file = up.open(\"./../ee/cut_optimize/DY/ee_DY_emjet_half.root\")"
   ]
  },
  {
   "cell_type": "code",
   "execution_count": 3,
   "id": "dramatic-railway",
   "metadata": {},
   "outputs": [
    {
     "data": {
      "text/plain": [
       "'HT_light_fakeRate'"
      ]
     },
     "execution_count": 3,
     "metadata": {},
     "output_type": "execute_result"
    }
   ],
   "source": [
    "file[\"HT_light_fakeRate\"].member(\"fName\")"
   ]
  },
  {
   "cell_type": "code",
   "execution_count": 4,
   "id": "saving-round",
   "metadata": {},
   "outputs": [
    {
     "data": {
      "text/plain": [
       "array([ 0.,  1.,  2.,  3.,  4.,  5.,  6.,  7.,  8.,  9., 10., 11., 12.,\n",
       "       13., 14., 15., 16., 17., 18., 19., 20., 21., 22., 23., 24., 25.,\n",
       "       26., 27., 28., 29., 30., 31., 32., 33., 34., 35., 36., 37., 38.,\n",
       "       39., 40., 41., 42., 43., 44., 45., 46., 47., 48., 49., 50.])"
      ]
     },
     "execution_count": 4,
     "metadata": {},
     "output_type": "execute_result"
    }
   ],
   "source": [
    "file[\"HT_light_fakeRate\"].axis().edges()"
   ]
  },
  {
   "cell_type": "code",
   "execution_count": 5,
   "id": "applied-amendment",
   "metadata": {},
   "outputs": [
    {
     "data": {
      "text/plain": [
       "array([0.00000000e+00, 5.80480278e-01, 3.18238348e-01, 1.77361548e-01,\n",
       "       1.01869635e-01, 6.10639863e-02, 3.55787016e-02, 2.24792976e-02,\n",
       "       1.40164383e-02, 8.50702543e-03, 5.86515013e-03, 3.36765335e-03,\n",
       "       1.80778711e-03, 1.68038381e-03, 1.28881773e-03, 9.57379758e-04,\n",
       "       1.71738293e-03, 7.18061405e-04, 6.38553291e-04, 4.32211265e-04,\n",
       "       4.43756056e-04, 4.68217826e-04, 1.38794407e-04, 1.82368822e-04,\n",
       "       9.96344723e-04, 2.63656984e-04, 1.38558520e-04, 1.38150202e-03,\n",
       "       1.24983359e-04, 1.62813711e-04, 1.26216750e-04, 4.20982280e-04,\n",
       "       2.13678359e-04, 4.90248320e-04, 3.36757919e-04, 3.05018883e-04,\n",
       "       5.46917785e-04, 7.13861897e-04, 0.00000000e+00, 0.00000000e+00,\n",
       "       0.00000000e+00, 0.00000000e+00, 0.00000000e+00, 3.30878492e-03,\n",
       "       0.00000000e+00, 0.00000000e+00, 5.78248361e-03, 0.00000000e+00,\n",
       "       0.00000000e+00, 0.00000000e+00], dtype=float32)"
      ]
     },
     "execution_count": 5,
     "metadata": {},
     "output_type": "execute_result"
    }
   ],
   "source": [
    "file[\"HT_light_fakeRate\"].values()"
   ]
  },
  {
   "cell_type": "code",
   "execution_count": 6,
   "id": "fiscal-potential",
   "metadata": {},
   "outputs": [],
   "source": [
    "def func_light(x,*par):\n",
    "    return exp(par[0]+par[1]*x+par[2]*x*x) + par[3] * x +  par[4]"
   ]
  },
  {
   "cell_type": "code",
   "execution_count": 37,
   "id": "running-operation",
   "metadata": {},
   "outputs": [],
   "source": [
    "def func_c(x,*par):\n",
    "    return exp(par[0]+par[1]*x+par[2]*x*x) + par[3] * x*x +  par[4]*x+ par[5]"
   ]
  },
  {
   "cell_type": "code",
   "execution_count": 94,
   "id": "through-being",
   "metadata": {},
   "outputs": [],
   "source": [
    "def func_b(x,*par):\n",
    "    return exp(par[0]+par[1]*x)+  par[2]*x+ par[3]"
   ]
  },
  {
   "cell_type": "code",
   "execution_count": 103,
   "id": "preceding-repository",
   "metadata": {},
   "outputs": [
    {
     "data": {
      "text/plain": [
       "array([ 1.,  2.,  3.,  4.,  5.,  6.,  7.,  8.,  9., 10., 11., 12., 13.,\n",
       "       14., 15., 16., 17., 18., 19., 20., 21., 22., 23., 24., 25., 26.,\n",
       "       27., 28., 29., 30., 31., 32., 33., 34., 35., 36.])"
      ]
     },
     "execution_count": 103,
     "metadata": {},
     "output_type": "execute_result"
    }
   ],
   "source": [
    "xdata = file[\"HT_light_fakeRate\"].axis().edges()[1:-14]\n",
    "ydata = file[\"HT_light_fakeRate\"].values()[1:-13]\n",
    "xdata"
   ]
  },
  {
   "cell_type": "code",
   "execution_count": 9,
   "id": "hydraulic-throat",
   "metadata": {},
   "outputs": [
    {
     "data": {
      "text/plain": [
       "array([5.80480278e-01, 3.18238348e-01, 1.77361548e-01, 1.01869635e-01,\n",
       "       6.10639863e-02, 3.55787016e-02, 2.24792976e-02, 1.40164383e-02,\n",
       "       8.50702543e-03, 5.86515013e-03, 3.36765335e-03, 1.80778711e-03,\n",
       "       1.68038381e-03, 1.28881773e-03, 9.57379758e-04, 1.71738293e-03,\n",
       "       7.18061405e-04, 6.38553291e-04, 4.32211265e-04, 4.43756056e-04,\n",
       "       4.68217826e-04, 1.38794407e-04, 1.82368822e-04, 9.96344723e-04,\n",
       "       2.63656984e-04, 1.38558520e-04, 1.38150202e-03, 1.24983359e-04,\n",
       "       1.62813711e-04, 1.26216750e-04, 4.20982280e-04, 2.13678359e-04,\n",
       "       4.90248320e-04, 3.36757919e-04, 3.05018883e-04, 5.46917785e-04],\n",
       "      dtype=float32)"
      ]
     },
     "execution_count": 9,
     "metadata": {},
     "output_type": "execute_result"
    }
   ],
   "source": [
    "ydata"
   ]
  },
  {
   "cell_type": "code",
   "execution_count": 104,
   "id": "abandoned-harvey",
   "metadata": {},
   "outputs": [],
   "source": [
    "popt = zeros(5)  \n",
    "popt, pcov = curve_fit(func_light, xdata, ydata, p0 = popt, maxfev = 120000, bounds = [-1,1])"
   ]
  },
  {
   "cell_type": "code",
   "execution_count": 105,
   "id": "opposite-suite",
   "metadata": {},
   "outputs": [
    {
     "name": "stdout",
     "output_type": "stream",
     "text": [
      "par0 = 0.08113296235574718\n",
      "par1 = -0.6362062252254793\n",
      "par2 = 0.011421667042199464\n",
      "par3 = 1.1046894534748337e-05\n",
      "par4 = -0.0001393183924009835\n"
     ]
    }
   ],
   "source": [
    "for i in range(len(popt)):\n",
    "    print(f\"par{i} = {popt[i]}\")"
   ]
  },
  {
   "cell_type": "code",
   "execution_count": 67,
   "id": "imperial-brand",
   "metadata": {},
   "outputs": [
    {
     "name": "stdout",
     "output_type": "stream",
     "text": [
      "par0 = 0.08118787223744216\n",
      "par1 = -0.6362557021027739\n",
      "par2 = 0.01143712998969338\n",
      "par3 = 1.142707756756366e-05\n",
      "par4 = -0.00014995176601499091\n"
     ]
    }
   ],
   "source": [
    "for i in range(len(popt)):\n",
    "    print(f\"par{i} = {popt[i]}\")"
   ]
  },
  {
   "cell_type": "code",
   "execution_count": 109,
   "id": "ongoing-traffic",
   "metadata": {},
   "outputs": [
    {
     "name": "stdout",
     "output_type": "stream",
     "text": [
      "0.0001384563241929822\n",
      "Hist\tCalc Package\tChi Sq\t Chi2/dof\n",
      "SciPy\tPython\t0.004430602374175431\t0.0001384563241929822\n"
     ]
    }
   ],
   "source": [
    "# Calculate chi Squared\n",
    "f_opti = func_light(xdata,*popt)\n",
    "ch2_opti = np.sum( (ydata-f_opti)**2/ydata)\n",
    "# Calculate Degrees of Freedom with 5 fit parameters\n",
    "lenx = len(xdata)\n",
    "dof = lenx-len(popt)\n",
    "Chi2_dof = str(ch2_opti/dof)\n",
    "print(Chi2_dof)\n",
    "print('Hist\\tCalc Package\\tChi Sq\\t Chi2/dof')\n",
    "print('SciPy\\tPython\\t{0}\\t{1}'.format(ch2_opti, ch2_opti/dof))"
   ]
  },
  {
   "cell_type": "code",
   "execution_count": 106,
   "id": "gentle-transport",
   "metadata": {},
   "outputs": [
    {
     "data": {
      "text/plain": [
       "array([5.80480278e-01, 3.18238348e-01, 1.77361548e-01, 1.01869635e-01,\n",
       "       6.10639863e-02, 3.55787016e-02, 2.24792976e-02, 1.40164383e-02,\n",
       "       8.50702543e-03, 5.86515013e-03, 3.36765335e-03, 1.80778711e-03,\n",
       "       1.68038381e-03, 1.28881773e-03, 9.57379758e-04, 1.71738293e-03,\n",
       "       7.18061405e-04, 6.38553291e-04, 4.32211265e-04, 4.43756056e-04,\n",
       "       4.68217826e-04, 1.38794407e-04, 1.82368822e-04, 9.96344723e-04,\n",
       "       2.63656984e-04, 1.38558520e-04, 1.38150202e-03, 1.24983359e-04,\n",
       "       1.62813711e-04, 1.26216750e-04, 4.20982280e-04, 2.13678359e-04,\n",
       "       4.90248320e-04, 3.36757919e-04, 3.05018883e-04, 5.46917785e-04],\n",
       "      dtype=float32)"
      ]
     },
     "execution_count": 106,
     "metadata": {},
     "output_type": "execute_result"
    }
   ],
   "source": [
    "%matplotlib qt\n",
    "figure()\n",
    "title(\"Drell-Yan light fake rate\")\n",
    "ylabel(\"fake rate\")\n",
    "xlabel(\"Jet track multiplicity\")\n",
    "x_major_locator=MultipleLocator(1)\n",
    "original_data, = plot(xdata, ydata,\"x\")\n",
    "fitcurve_data, = plot(xdata, func_light(xdata,*popt))\n",
    "text, = plot(0,0,\"white\")\n",
    "l1 = legend([original_data,fitcurve_data],[\"Drell-Yan light fake rate\",\"fitting curve\"],loc = 'upper right')\n",
    "#figure()\n",
    "#title(\" data / fit result\")\n",
    "# plot(testx, testy)\n",
    "#plot(testx, testy/func(testx,*popt))\n",
    "ydata"
   ]
  },
  {
   "cell_type": "code",
   "execution_count": 111,
   "id": "threatened-bedroom",
   "metadata": {},
   "outputs": [
    {
     "data": {
      "text/plain": [
       "'HT_cjet_fakeRate'"
      ]
     },
     "execution_count": 111,
     "metadata": {},
     "output_type": "execute_result"
    }
   ],
   "source": [
    "file[\"HT_cjet_fakeRate\"].member(\"fName\")"
   ]
  },
  {
   "cell_type": "code",
   "execution_count": 113,
   "id": "described-tours",
   "metadata": {},
   "outputs": [
    {
     "data": {
      "text/plain": [
       "array([0.0000000e+00, 3.9170370e-01, 1.6859736e-01, 8.8859290e-02,\n",
       "       5.5571698e-02, 3.3747010e-02, 1.8293547e-02, 1.2556858e-02,\n",
       "       9.0257218e-03, 6.2308582e-03, 4.8960820e-03, 2.8664437e-03,\n",
       "       2.5033241e-03, 1.6508430e-03, 1.0444091e-03, 2.5604027e-03,\n",
       "       1.1428441e-03, 4.1687026e-04, 8.4338844e-04, 1.5926908e-04,\n",
       "       1.0101123e-04, 3.7824918e-04, 3.4863618e-04, 1.3485903e-04,\n",
       "       1.6666502e-04, 1.5703557e-04, 1.9392524e-04, 3.7917891e-04,\n",
       "       4.0242684e-04, 0.0000000e+00, 0.0000000e+00, 0.0000000e+00,\n",
       "       0.0000000e+00, 0.0000000e+00, 0.0000000e+00, 2.2554912e-03,\n",
       "       0.0000000e+00, 0.0000000e+00, 0.0000000e+00, 0.0000000e+00,\n",
       "       0.0000000e+00, 0.0000000e+00, 0.0000000e+00, 0.0000000e+00,\n",
       "       0.0000000e+00, 0.0000000e+00, 0.0000000e+00, 1.3077877e-03,\n",
       "       0.0000000e+00, 0.0000000e+00], dtype=float32)"
      ]
     },
     "execution_count": 113,
     "metadata": {},
     "output_type": "execute_result"
    }
   ],
   "source": [
    "file[\"HT_cjet_fakeRate\"].values()"
   ]
  },
  {
   "cell_type": "code",
   "execution_count": 112,
   "id": "superior-foster",
   "metadata": {},
   "outputs": [
    {
     "data": {
      "text/plain": [
       "array([ 0.,  1.,  2.,  3.,  4.,  5.,  6.,  7.,  8.,  9., 10., 11., 12.,\n",
       "       13., 14., 15., 16., 17., 18., 19., 20., 21., 22., 23., 24., 25.,\n",
       "       26., 27., 28., 29., 30., 31., 32., 33., 34., 35., 36., 37., 38.,\n",
       "       39., 40., 41., 42., 43., 44., 45., 46., 47., 48., 49., 50.])"
      ]
     },
     "execution_count": 112,
     "metadata": {},
     "output_type": "execute_result"
    }
   ],
   "source": [
    "file[\"HT_cjet_fakeRate\"].axis().edges()"
   ]
  },
  {
   "cell_type": "code",
   "execution_count": 62,
   "id": "relevant-fireplace",
   "metadata": {},
   "outputs": [
    {
     "data": {
      "text/plain": [
       "array([3.9170370e-01, 1.6859736e-01, 8.8859290e-02, 5.5571698e-02,\n",
       "       3.3747010e-02, 1.8293547e-02, 1.2556858e-02, 9.0257218e-03,\n",
       "       6.2308582e-03, 4.8960820e-03, 2.8664437e-03, 2.5033241e-03,\n",
       "       1.6508430e-03, 1.0444091e-03, 2.5604027e-03, 1.1428441e-03,\n",
       "       4.1687026e-04, 8.4338844e-04, 1.5926908e-04, 1.0101123e-04,\n",
       "       3.7824918e-04, 3.4863618e-04, 1.3485903e-04, 1.6666502e-04,\n",
       "       1.5703557e-04, 1.9392524e-04, 3.7917891e-04, 4.0242684e-04,\n",
       "       0.0000000e+00, 0.0000000e+00, 0.0000000e+00, 0.0000000e+00,\n",
       "       0.0000000e+00, 0.0000000e+00, 2.2554912e-03, 0.0000000e+00,\n",
       "       0.0000000e+00, 0.0000000e+00, 0.0000000e+00, 0.0000000e+00,\n",
       "       0.0000000e+00, 0.0000000e+00, 0.0000000e+00, 0.0000000e+00,\n",
       "       0.0000000e+00, 0.0000000e+00, 1.3077877e-03, 0.0000000e+00,\n",
       "       0.0000000e+00], dtype=float32)"
      ]
     },
     "execution_count": 62,
     "metadata": {},
     "output_type": "execute_result"
    }
   ],
   "source": [
    "cjet_data = file[\"HT_cjet_fakeRate\"].axis().edges()[1:-1]\n",
    "cjet_ydata = file[\"HT_cjet_fakeRate\"].values()[1:]\n",
    "cjet_ydata"
   ]
  },
  {
   "cell_type": "code",
   "execution_count": 83,
   "id": "incorporated-helmet",
   "metadata": {},
   "outputs": [],
   "source": [
    "popt = zeros(5)\n",
    "popt, pcov = curve_fit(func_light, cjet_data, cjet_ydata, p0 = popt, maxfev = 120000, bounds = [-1,1])"
   ]
  },
  {
   "cell_type": "code",
   "execution_count": 84,
   "id": "adolescent-walker",
   "metadata": {
    "scrolled": true
   },
   "outputs": [
    {
     "name": "stdout",
     "output_type": "stream",
     "text": [
      "inf\n",
      "Hist\tCalc Package\tChi Sq\t Chi2/dof\n",
      "SciPy\tPython\tinf\tinf\n"
     ]
    },
    {
     "name": "stderr",
     "output_type": "stream",
     "text": [
      "<ipython-input-84-8d32a217e282>:3: RuntimeWarning: divide by zero encountered in true_divide\n",
      "  ch2_opti = np.sum( (cjet_ydata-f_opti)**2/cjet_ydata)\n"
     ]
    }
   ],
   "source": [
    "# Calculate chi Squared\n",
    "f_opti = func_light(cjet_data,*popt)\n",
    "ch2_opti = np.sum( (cjet_ydata-f_opti)**2/cjet_ydata)\n",
    "# Calculate Degrees of Freedom with 5 fit parameters\n",
    "lenx = len(cjet_data)\n",
    "dof = lenx-len(popt)\n",
    "Chi2_dof = str(ch2_opti/dof)\n",
    "print(Chi2_dof)\n",
    "print('Hist\\tCalc Package\\tChi Sq\\t Chi2/dof')\n",
    "print('SciPy\\tPython\\t{0}\\t{1}'.format(ch2_opti, ch2_opti/dof))"
   ]
  },
  {
   "cell_type": "code",
   "execution_count": 90,
   "id": "saved-festival",
   "metadata": {},
   "outputs": [
    {
     "data": {
      "text/plain": [
       "[<matplotlib.lines.Line2D at 0x7f07001b8790>]"
      ]
     },
     "execution_count": 90,
     "metadata": {},
     "output_type": "execute_result"
    }
   ],
   "source": [
    "%matplotlib qt\n",
    "figure()\n",
    "title(\"Drell-Yan c flavor fake rate\")\n",
    "ylabel(\"fake rate\")\n",
    "xlabel(\"Jet track multiplicity\")\n",
    "x_major_locator=MultipleLocator(1)\n",
    "original_data, = plot(cjet_data, cjet_ydata,\"x\")\n",
    "fitcurve_data, = plot(cjet_data, func_light(cjet_data,*popt))\n",
    "text, = plot(0,0,\"white\")\n",
    "l1 = legend([original_data,fitcurve_data],[\"Drell-Yan c fake rate\",\"fitting curve\"],loc = 'upper right')\n",
    "figure()\n",
    "title(\" data / fit result\")\n",
    "#plot(cjet_data, cjet_ydata)\n",
    "plot(cjet_data, cjet_ydata/func_light(cjet_data,*popt))\n",
    "#ydata"
   ]
  },
  {
   "cell_type": "code",
   "execution_count": 87,
   "id": "built-purpose",
   "metadata": {},
   "outputs": [
    {
     "name": "stdout",
     "output_type": "stream",
     "text": [
      "par0 = -0.155879619433122\n",
      "par1 = -0.8197317704086138\n",
      "par2 = 0.014493676237956263\n",
      "par3 = -0.000158355043308647\n",
      "par4 = 0.005435107513335813\n"
     ]
    }
   ],
   "source": [
    "for i in range(len(popt)):\n",
    "    print(f\"par{i} = {popt[i]}\")"
   ]
  },
  {
   "cell_type": "code",
   "execution_count": 91,
   "id": "pointed-mailing",
   "metadata": {},
   "outputs": [
    {
     "data": {
      "text/plain": [
       "'HT_bjet_fakeRate'"
      ]
     },
     "execution_count": 91,
     "metadata": {},
     "output_type": "execute_result"
    }
   ],
   "source": [
    "file[\"HT_bjet_fakeRate\"].member(\"fName\")"
   ]
  },
  {
   "cell_type": "code",
   "execution_count": 92,
   "id": "separate-thanks",
   "metadata": {},
   "outputs": [
    {
     "data": {
      "text/plain": [
       "array([5.33097506e-01, 3.59892219e-01, 2.91233897e-01, 2.28263736e-01,\n",
       "       1.86779261e-01, 1.36610538e-01, 1.12579130e-01, 9.41011161e-02,\n",
       "       7.68224820e-02, 5.15174605e-02, 4.22011465e-02, 3.83251049e-02,\n",
       "       3.36279050e-02, 2.17292476e-02, 1.12437978e-02, 1.44291315e-02,\n",
       "       5.18629327e-03, 7.85818603e-03, 1.04402825e-02, 3.51918885e-03,\n",
       "       4.98966454e-03, 5.29964280e-04, 1.20534305e-03, 6.37027842e-04,\n",
       "       8.98129132e-04, 0.00000000e+00, 1.57468836e-03, 0.00000000e+00,\n",
       "       0.00000000e+00], dtype=float32)"
      ]
     },
     "execution_count": 92,
     "metadata": {},
     "output_type": "execute_result"
    }
   ],
   "source": [
    "bjet_data = file[\"HT_bjet_fakeRate\"].axis().edges()[1:-1]\n",
    "bjet_ydata = file[\"HT_bjet_fakeRate\"].values()[1:]\n",
    "bjet_ydata"
   ]
  },
  {
   "cell_type": "code",
   "execution_count": 100,
   "id": "appreciated-ordinary",
   "metadata": {},
   "outputs": [],
   "source": [
    "popt = zeros(5)\n",
    "popt, pcov = curve_fit(func_light, bjet_data, bjet_ydata, p0 = popt, maxfev = 120000, bounds = [-1,1])"
   ]
  },
  {
   "cell_type": "code",
   "execution_count": 101,
   "id": "collect-galaxy",
   "metadata": {},
   "outputs": [
    {
     "data": {
      "text/plain": [
       "[<matplotlib.lines.Line2D at 0x7f07004e4430>]"
      ]
     },
     "execution_count": 101,
     "metadata": {},
     "output_type": "execute_result"
    }
   ],
   "source": [
    "%matplotlib qt\n",
    "figure()\n",
    "title(\"Drell-Yan b flavor fake rate\")\n",
    "ylabel(\"fake rate\")\n",
    "xlabel(\"Jet track multiplicity\")\n",
    "x_major_locator=MultipleLocator(1)\n",
    "original_data, = plot(bjet_data, bjet_ydata,\"x\")\n",
    "fitcurve_data, = plot(bjet_data, func_light(bjet_data,*popt))\n",
    "text, = plot(0,0,\"white\")\n",
    "l1 = legend([original_data,fitcurve_data],[\"Drell-Yan b fake rate\",\"fitting curve\"],loc = 'upper right')\n",
    "figure()\n",
    "title(\" data / fit result\")\n",
    "#plot(cjet_data, cjet_ydata)\n",
    "plot(bjet_data, bjet_ydata/func_light(bjet_data,*popt))\n",
    "#ydata"
   ]
  },
  {
   "cell_type": "code",
   "execution_count": 102,
   "id": "historic-scholarship",
   "metadata": {},
   "outputs": [
    {
     "name": "stdout",
     "output_type": "stream",
     "text": [
      "par0 = -0.36929055060873117\n",
      "par1 = -0.32227621971627424\n",
      "par2 = 0.0077448118765263176\n",
      "par3 = -0.0018266700500858249\n",
      "par4 = 0.016124941879979406\n"
     ]
    }
   ],
   "source": [
    "for i in range(len(popt)):\n",
    "    print(f\"par{i} = {popt[i]}\")"
   ]
  },
  {
   "cell_type": "code",
   "execution_count": null,
   "id": "hungarian-europe",
   "metadata": {},
   "outputs": [],
   "source": []
  }
 ],
 "metadata": {
  "kernelspec": {
   "display_name": "Python 3",
   "language": "python",
   "name": "python3"
  },
  "language_info": {
   "codemirror_mode": {
    "name": "ipython",
    "version": 3
   },
   "file_extension": ".py",
   "mimetype": "text/x-python",
   "name": "python",
   "nbconvert_exporter": "python",
   "pygments_lexer": "ipython3",
   "version": "3.8.10"
  }
 },
 "nbformat": 4,
 "nbformat_minor": 5
}
