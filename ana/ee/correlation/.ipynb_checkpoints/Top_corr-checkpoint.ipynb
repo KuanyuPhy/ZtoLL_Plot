{
 "cells": [
  {
   "cell_type": "code",
   "execution_count": 1,
   "id": "popular-connection",
   "metadata": {},
   "outputs": [
    {
     "name": "stdout",
     "output_type": "stream",
     "text": [
      "Welcome to JupyROOT 6.26/00\n"
     ]
    }
   ],
   "source": [
    "from matplotlib.pyplot import *\n",
    "import seaborn as sb\n",
    "import numpy as np\n",
    "import pandas as pd\n",
    "import ROOT\n",
    "import uproot"
   ]
  },
  {
   "cell_type": "code",
   "execution_count": 2,
   "id": "illegal-acoustic",
   "metadata": {},
   "outputs": [
    {
     "data": {
      "text/plain": [
       "uproot.models.TTree.Model_TTree_v20"
      ]
     },
     "execution_count": 2,
     "metadata": {},
     "output_type": "execute_result"
    }
   ],
   "source": [
    "Tree = uproot.open(\"./../../../../../root_file/Ztoee/2016BKGMC/top/top_TTTo2L2Nu.root:T_tree\")\n",
    "type(Tree)"
   ]
  },
  {
   "cell_type": "code",
   "execution_count": 23,
   "id": "flexible-advocacy",
   "metadata": {},
   "outputs": [
    {
     "data": {
      "text/plain": [
       "0          17.730225\n",
       "1          25.700716\n",
       "2          36.420177\n",
       "3          26.488880\n",
       "4           7.062442\n",
       "             ...    \n",
       "1910315    44.917725\n",
       "1910316    75.254333\n",
       "1910317    26.491249\n",
       "1910318    40.791359\n",
       "1910319    22.036808\n",
       "Length: 1910320, dtype: float32"
      ]
     },
     "execution_count": 23,
     "metadata": {},
     "output_type": "execute_result"
    }
   ],
   "source": [
    "Tree[\"f_Met\"].array(library=\"pd\")"
   ]
  },
  {
   "cell_type": "code",
   "execution_count": 13,
   "id": "finished-compact",
   "metadata": {},
   "outputs": [
    {
     "name": "stdout",
     "output_type": "stream",
     "text": [
      "name                 | typename                 | interpretation                \n",
      "---------------------+--------------------------+-------------------------------\n",
      "I_event              | int32_t                  | AsDtype('>i4')\n",
      "I_weight             | int32_t                  | AsDtype('>i4')\n",
      "I_eventID            | uint64_t                 | AsDtype('>u8')\n",
      "I_tot_gencoevt       | int32_t                  | AsDtype('>i4')\n",
      "I_tot_Recoevt        | int32_t                  | AsDtype('>i4')\n",
      "I_Sumeventweight     | int32_t                  | AsDtype('>i4')\n",
      "f_Met                | float                    | AsDtype('>f4')\n",
      "f_HT                 | float                    | AsDtype('>f4')\n",
      "f_dileptonmass       | float                    | AsDtype('>f4')\n",
      "f_dileptonPT         | float                    | AsDtype('>f4')\n",
      "v_MetdeltaPhi        | std::vector<float>       | AsJagged(AsDtype('>f4'), he...\n",
      "I_nThinJets          | int32_t                  | AsDtype('>i4')\n",
      "f_JetEta             | std::vector<float>       | AsJagged(AsDtype('>f4'), he...\n",
      "f_JetPt              | std::vector<float>       | AsJagged(AsDtype('>f4'), he...\n",
      "f_matchJet_PT        | std::vector<float>       | AsJagged(AsDtype('>f4'), he...\n",
      "f_matchJet_Eta       | std::vector<float>       | AsJagged(AsDtype('>f4'), he...\n",
      "f_thinjetCSV         | std::vector<float>       | AsJagged(AsDtype('>f4'), he...\n",
      "f_leadJetpt          | float                    | AsDtype('>f4')\n",
      "f_leadJeteta         | float                    | AsDtype('>f4')\n",
      "I_leadJetflavor      | int32_t                  | AsDtype('>i4')\n",
      "f_minalphaJetpt      | float                    | AsDtype('>f4')\n",
      "f_minalphaJeteta     | float                    | AsDtype('>f4')\n",
      "I_minJethadronflavor | int32_t                  | AsDtype('>i4')\n",
      "I_minJetpartonflavor | int32_t                  | AsDtype('>i4')\n",
      "I_nJets              | int32_t                  | AsDtype('>i4')\n",
      "v_N_Tracks           | std::vector<int32_t>     | AsJagged(AsDtype('>i4'), he...\n",
      "v_TrackPT            | std::vector<float>       | AsJagged(AsDtype('>f4'), he...\n",
      "v_TrackEta           | std::vector<float>       | AsJagged(AsDtype('>f4'), he...\n",
      "v_Trackdr            | std::vector<float>       | AsJagged(AsDtype('>f4'), he...\n",
      "v_Trackindex         | std::vector<int32_t>     | AsJagged(AsDtype('>i4'), he...\n",
      "v_IP2D               | std::vector<float>       | AsJagged(AsDtype('>f4'), he...\n",
      "v_Chi2Dlog           | std::vector<float>       | AsJagged(AsDtype('>f4'), he...\n",
      "v_Chi3Dlog           | std::vector<float>       | AsJagged(AsDtype('>f4'), he...\n",
      "v_Chi3D              | std::vector<float>       | AsJagged(AsDtype('>f4'), he...\n",
      "v_Chi3DlogPaper      | std::vector<float>       | AsJagged(AsDtype('>f4'), he...\n",
      "v_Chi3DPaper         | std::vector<float>       | AsJagged(AsDtype('>f4'), he...\n",
      "v_Median_log3DIPsig  | std::vector<float>       | AsJagged(AsDtype('>f4'), he...\n",
      "v_Mean_log3DIPsig    | std::vector<float>       | AsJagged(AsDtype('>f4'), he...\n",
      "v_Median_log2DIPsig  | std::vector<float>       | AsJagged(AsDtype('>f4'), he...\n",
      "v_Median_2DIPsig     | std::vector<float>       | AsJagged(AsDtype('>f4'), he...\n",
      "f_alphamax           | double                   | AsDtype('>f8')\n",
      "f_alphamin           | double                   | AsDtype('>f8')\n",
      "v_fakeJetPt          | std::vector<float>       | AsJagged(AsDtype('>f4'), he...\n",
      "v_fakeJetEta         | std::vector<float>       | AsJagged(AsDtype('>f4'), he...\n",
      "v_fakealpha          | std::vector<float>       | AsJagged(AsDtype('>f4'), he...\n",
      "v_fakealpha2         | std::vector<float>       | AsJagged(AsDtype('>f4'), he...\n",
      "v_fakealpha3         | std::vector<float>       | AsJagged(AsDtype('>f4'), he...\n",
      "v_fakealpha4         | std::vector<float>       | AsJagged(AsDtype('>f4'), he...\n",
      "v_fakeJethadronfl... | std::vector<float>       | AsJagged(AsDtype('>f4'), he...\n",
      "v_fakeJetpartonfl... | std::vector<float>       | AsJagged(AsDtype('>f4'), he...\n"
     ]
    }
   ],
   "source": [
    "Tree.show()"
   ]
  },
  {
   "cell_type": "code",
   "execution_count": 25,
   "id": "relevant-graph",
   "metadata": {},
   "outputs": [],
   "source": [
    "pdframe = Tree[\"\"].array(library=\"pd\")"
   ]
  },
  {
   "cell_type": "code",
   "execution_count": 3,
   "id": "assisted-toyota",
   "metadata": {},
   "outputs": [],
   "source": [
    "pdframe = Tree.arrays([\"f_Met\",\"f_dileptonPT\",\"f_alphamin\",\"f_minalphaJetpt\",\"f_minalphaJeteta\"], library=\"pd\")"
   ]
  },
  {
   "cell_type": "code",
   "execution_count": 4,
   "id": "interstate-patrick",
   "metadata": {},
   "outputs": [
    {
     "data": {
      "text/plain": [
       "pandas.core.frame.DataFrame"
      ]
     },
     "execution_count": 4,
     "metadata": {},
     "output_type": "execute_result"
    }
   ],
   "source": [
    "type(pdframe)"
   ]
  },
  {
   "cell_type": "code",
   "execution_count": 5,
   "id": "reliable-smart",
   "metadata": {},
   "outputs": [],
   "source": [
    "corr = pdframe.corr()"
   ]
  },
  {
   "cell_type": "code",
   "execution_count": 6,
   "id": "friendly-romania",
   "metadata": {
    "scrolled": true
   },
   "outputs": [
    {
     "data": {
      "image/png": "[encoded data removed]",
      "text/plain": [
       "<Figure size 432x288 with 2 Axes>"
      ]
     },
     "metadata": {
      "needs_background": "light"
     },
     "output_type": "display_data"
    }
   ],
   "source": [
    "sb.heatmap(corr,cmap='YlGnBu',annot=True)\n",
    "savefig(\"Top_var_corr.png\", bbox_inches='tight', facecolor=\"white\",dpi=300)"
   ]
  },
  {
   "cell_type": "code",
   "execution_count": 46,
   "id": "active-guide",
   "metadata": {},
   "outputs": [
    {
     "ename": "NameError",
     "evalue": "name 'savefig' is not defined",
     "output_type": "error",
     "traceback": [
      "\u001b[0;31m---------------------------------------------------------------------------\u001b[0m",
      "\u001b[0;31mNameError\u001b[0m                                 Traceback (most recent call last)",
      "\u001b[0;32m<ipython-input-46-317451a743fc>\u001b[0m in \u001b[0;36m<module>\u001b[0;34m\u001b[0m\n\u001b[0;32m----> 1\u001b[0;31m \u001b[0msavefig\u001b[0m\u001b[0;34m(\u001b[0m\u001b[0;34m\"./var_corr.png\"\u001b[0m\u001b[0;34m)\u001b[0m\u001b[0;34m\u001b[0m\u001b[0;34m\u001b[0m\u001b[0m\n\u001b[0m",
      "\u001b[0;31mNameError\u001b[0m: name 'savefig' is not defined"
     ]
    }
   ],
   "source": []
  },
  {
   "cell_type": "code",
   "execution_count": null,
   "id": "continuing-municipality",
   "metadata": {},
   "outputs": [],
   "source": []
  }
 ],
 "metadata": {
  "kernelspec": {
   "display_name": "Python 3",
   "language": "python",
   "name": "python3"
  },
  "language_info": {
   "codemirror_mode": {
    "name": "ipython",
    "version": 3
   },
   "file_extension": ".py",
   "mimetype": "text/x-python",
   "name": "python",
   "nbconvert_exporter": "python",
   "pygments_lexer": "ipython3",
   "version": "3.8.10"
  }
 },
 "nbformat": 4,
 "nbformat_minor": 5
}
