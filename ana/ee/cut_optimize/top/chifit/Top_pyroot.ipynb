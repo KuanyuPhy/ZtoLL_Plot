{
 "cells": [
  {
   "cell_type": "code",
   "execution_count": 16,
   "id": "velvet-filename",
   "metadata": {},
   "outputs": [],
   "source": [
    "import ROOT\n",
    "from ROOT import TFile"
   ]
  },
  {
   "cell_type": "code",
   "execution_count": 10,
   "id": "rational-glance",
   "metadata": {},
   "outputs": [],
   "source": [
    "x = ROOT.RooRealVar(\"x\", \"x\", 1,25)"
   ]
  },
  {
   "cell_type": "code",
   "execution_count": 17,
   "id": "meaning-radar",
   "metadata": {},
   "outputs": [],
   "source": [
    "file = TFile(\"./../ee_Top_emjet_half.root\")"
   ]
  },
  {
   "cell_type": "code",
   "execution_count": 22,
   "id": "verbal-payday",
   "metadata": {},
   "outputs": [],
   "source": [
    "h_fake_rate = file.Get(\"Top_bjet_fakeRate\")"
   ]
  },
  {
   "cell_type": "code",
   "execution_count": 27,
   "id": "coated-treatment",
   "metadata": {},
   "outputs": [],
   "source": [
    "data = ROOT.RooDataHist(\"data\",\"dataset with x\", x, h_fake_rate)"
   ]
  },
  {
   "cell_type": "code",
   "execution_count": 31,
   "id": "empirical-source",
   "metadata": {},
   "outputs": [],
   "source": [
    "f1 = ROOT.TF1(\"f1\",\"expo\",1,25)"
   ]
  },
  {
   "cell_type": "code",
   "execution_count": 32,
   "id": "catholic-sucking",
   "metadata": {},
   "outputs": [],
   "source": [
    "x3 = ROOT.RooRealVar(\"x3\", \"x3\", 1, 25)"
   ]
  },
  {
   "cell_type": "code",
   "execution_count": 34,
   "id": "organizational-pressure",
   "metadata": {},
   "outputs": [],
   "source": [
    "rfa1 = ROOT.RooFit.bindFunction(f1, x3)"
   ]
  },
  {
   "cell_type": "code",
   "execution_count": 36,
   "id": "gothic-things",
   "metadata": {},
   "outputs": [
    {
     "name": "stderr",
     "output_type": "stream",
     "text": [
      "Warning in <TCanvas::Constructor>: Deleting canvas with same name: rf105_funcbinding\n"
     ]
    }
   ],
   "source": [
    "c = ROOT.TCanvas(\"rf105_funcbinding\", \"rf105_funcbinding\", 1200, 400)"
   ]
  },
  {
   "cell_type": "code",
   "execution_count": 37,
   "id": "former-velvet",
   "metadata": {},
   "outputs": [
    {
     "ename": "AttributeError",
     "evalue": "'RooTFnBinding' object has no attribute 'fitTo'",
     "output_type": "error",
     "traceback": [
      "\u001b[0;31m---------------------------------------------------------------------------\u001b[0m",
      "\u001b[0;31mAttributeError\u001b[0m                            Traceback (most recent call last)",
      "\u001b[0;32m<ipython-input-37-8977476fe4c4>\u001b[0m in \u001b[0;36m<module>\u001b[0;34m\u001b[0m\n\u001b[0;32m----> 1\u001b[0;31m \u001b[0mrfa1\u001b[0m\u001b[0;34m.\u001b[0m\u001b[0mfitTo\u001b[0m\u001b[0;34m(\u001b[0m\u001b[0mdata\u001b[0m\u001b[0;34m)\u001b[0m\u001b[0;34m\u001b[0m\u001b[0;34m\u001b[0m\u001b[0m\n\u001b[0m",
      "\u001b[0;31mAttributeError\u001b[0m: 'RooTFnBinding' object has no attribute 'fitTo'"
     ]
    }
   ],
   "source": [
    "rfa1.fitTo(data)"
   ]
  },
  {
   "cell_type": "code",
   "execution_count": 25,
   "id": "tutorial-irish",
   "metadata": {},
   "outputs": [
    {
     "data": {
      "image/png": "[encoded data removed]",
      "text/plain": [
       "<IPython.core.display.Image object>"
      ]
     },
     "metadata": {},
     "output_type": "display_data"
    }
   ],
   "source": [
    "c.Draw()"
   ]
  },
  {
   "cell_type": "code",
   "execution_count": null,
   "id": "divided-world",
   "metadata": {},
   "outputs": [],
   "source": []
  }
 ],
 "metadata": {
  "kernelspec": {
   "display_name": "Python 3",
   "language": "python",
   "name": "python3"
  },
  "language_info": {
   "codemirror_mode": {
    "name": "ipython",
    "version": 3
   },
   "file_extension": ".py",
   "mimetype": "text/x-python",
   "name": "python",
   "nbconvert_exporter": "python",
   "pygments_lexer": "ipython3",
   "version": "3.8.10"
  }
 },
 "nbformat": 4,
 "nbformat_minor": 5
}
